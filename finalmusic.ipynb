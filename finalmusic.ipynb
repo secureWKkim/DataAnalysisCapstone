{
 "cells": [
  {
   "cell_type": "markdown",
   "metadata": {},
   "source": [
    "### 특징 벡터의 파라미터로 들어갈 features (단일값 산출이 가능한 것 위주로 선정)\n",
    "- **energy**\n",
    "- **tempo**(global tempo)\n",
    "- chord (maybe)\n",
    "- **spectral centroid**\n",
    "- spectral spread (분산 범위)(구하는 법 아직 못찾음)\n",
    "- **spectral roll-off**\n",
    "- spectral flux (구하는 법 아직 못찾음)\n",
    "- spectral valley => **zero-crossing rate**로 대체\n",
    "- **spectral contrast**\n",
    "- spectral bandwidth(maybe)\n"
   ]
  },
  {
   "cell_type": "code",
   "execution_count": 6,
   "metadata": {},
   "outputs": [
    {
     "output_type": "execute_result",
     "data": {
      "text/plain": "'\\nimport json\\nk = json.load(open(\"celestial/celestial.ipynb\", \\'r\\'))\\nall_code_lst =[]\\nfor cell in k[\\'cells\\']:\\n    if cell[\\'cell_type\\']==\\'code\\':\\n        all_code_lst.append(\"\".join(cell[\\'source\\']))\\nall_code = \"\\n\".join(all_code_lst)\\nexec(all_code)\\nfrom heroic import heroic as her\\nfrom celestial import celestial as cel\\nfrom contemplating import contemplating as con\\n'"
     },
     "metadata": {},
     "execution_count": 6
    }
   ],
   "source": [
    "\"\"\"\n",
    "import json\n",
    "k = json.load(open(\"celestial/celestial.ipynb\", 'r'))\n",
    "all_code_lst =[]\n",
    "for cell in k['cells']:\n",
    "    if cell['cell_type']=='code':\n",
    "        all_code_lst.append(\"\".join(cell['source']))\n",
    "all_code = \"\\n\".join(all_code_lst)\n",
    "exec(all_code)\n",
    "from heroic import heroic as her\n",
    "from celestial import celestial as cel\n",
    "from contemplating import contemplating as con\n",
    "\"\"\""
   ]
  },
  {
   "cell_type": "code",
   "execution_count": 5,
   "metadata": {},
   "outputs": [
    {
     "output_type": "error",
     "ename": "AttributeError",
     "evalue": "module 'celestial.celestial' has no attribute 'S'",
     "traceback": [
      "\u001b[0;31m---------------------------------------------------------------------------\u001b[0m",
      "\u001b[0;31mAttributeError\u001b[0m                            Traceback (most recent call last)",
      "\u001b[0;32m<ipython-input-5-30f7b945d110>\u001b[0m in \u001b[0;36m<module>\u001b[0;34m\u001b[0m\n\u001b[1;32m      1\u001b[0m \u001b[0;32mimport\u001b[0m \u001b[0mimport_ipynb\u001b[0m\u001b[0;34m\u001b[0m\u001b[0;34m\u001b[0m\u001b[0m\n\u001b[1;32m      2\u001b[0m \u001b[0;32mfrom\u001b[0m \u001b[0mcelestial\u001b[0m \u001b[0;32mimport\u001b[0m \u001b[0mcelestial\u001b[0m \u001b[0;32mas\u001b[0m \u001b[0mcel\u001b[0m\u001b[0;34m\u001b[0m\u001b[0;34m\u001b[0m\u001b[0m\n\u001b[0;32m----> 3\u001b[0;31m \u001b[0mprint\u001b[0m\u001b[0;34m(\u001b[0m\u001b[0mcel\u001b[0m\u001b[0;34m.\u001b[0m\u001b[0mS\u001b[0m\u001b[0;34m)\u001b[0m\u001b[0;34m\u001b[0m\u001b[0;34m\u001b[0m\u001b[0m\n\u001b[0m",
      "\u001b[0;31mAttributeError\u001b[0m: module 'celestial.celestial' has no attribute 'S'"
     ]
    }
   ],
   "source": [
    "import import_ipynb\n",
    "from celestial import celestial as cel\n",
    "print(cel.S)"
   ]
  }
 ],
 "metadata": {
  "language_info": {
   "codemirror_mode": {
    "name": "ipython",
    "version": 3
   },
   "file_extension": ".py",
   "mimetype": "text/x-python",
   "name": "python",
   "nbconvert_exporter": "python",
   "pygments_lexer": "ipython3",
   "version": "3.7.7-final"
  },
  "orig_nbformat": 2,
  "kernelspec": {
   "name": "python37764bit3fe8b2d0d9304df299cab6e64c0571d6",
   "display_name": "Python 3.7.7 64-bit"
  }
 },
 "nbformat": 4,
 "nbformat_minor": 2
}